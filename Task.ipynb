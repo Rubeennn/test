{
 "cells": [
  {
   "cell_type": "markdown",
   "id": "c1a65bb7",
   "metadata": {},
   "source": [
    "## Importing necessary libraries"
   ]
  },
  {
   "cell_type": "code",
   "execution_count": 131,
   "id": "91385bc6",
   "metadata": {},
   "outputs": [],
   "source": [
    "import zipfile\n",
    "from pathlib import Path\n",
    "import pandas as pd\n",
    "from word2number import w2n\n",
    "import pickle\n"
   ]
  },
  {
   "cell_type": "markdown",
   "id": "0d07a5a3",
   "metadata": {},
   "source": [
    "## Data Preparation"
   ]
  },
  {
   "cell_type": "code",
   "execution_count": 132,
   "id": "608411d6",
   "metadata": {},
   "outputs": [],
   "source": [
    "data_path = Path('data')\n",
    "Path.mkdir(data_path, exist_ok=True, parents=True)"
   ]
  },
  {
   "cell_type": "code",
   "execution_count": 133,
   "id": "f62272ea",
   "metadata": {},
   "outputs": [],
   "source": [
    "with zipfile.ZipFile('data.zip', 'r') as file:\n",
    "    file.extractall(data_path)"
   ]
  },
  {
   "cell_type": "code",
   "execution_count": 134,
   "id": "1dc29619",
   "metadata": {},
   "outputs": [],
   "source": [
    "with open('data/invoices_new.pkl', 'rb') as f:\n",
    "    voices = pickle.load(f)"
   ]
  },
  {
   "cell_type": "code",
   "execution_count": 135,
   "id": "50fff933",
   "metadata": {},
   "outputs": [],
   "source": [
    "with open('data/expired_invoices.txt', 'r') as f:\n",
    "    expired = [line.strip() for line in f]"
   ]
  },
  {
   "cell_type": "code",
   "execution_count": 138,
   "id": "9a608808",
   "metadata": {},
   "outputs": [],
   "source": [
    "def convert_quantity(quantity):\n",
    "    try:\n",
    "        return int(quantity)\n",
    "    except Exception:\n",
    "        try:\n",
    "            return w2n.word_to_num(quantity)\n",
    "        except ValueError:\n",
    "            return 0\n",
    "\n",
    "\n",
    "\n",
    "# List to store the rows of the dataframe\n",
    "rows = []\n",
    "\n",
    "# Process each invoice\n",
    "for idx, data in enumerate(voices):\n",
    "    invoice_id = data['id']\n",
    "    created_on = data['created_on']\n",
    "    items = data.get('items', [])\n",
    "\n",
    "    # Calculate total invoice amount\n",
    "    total_invoice_amount = sum(\n",
    "        item['item']['unit_price'] * convert_quantity(item['quantity']) \n",
    "        for item in items\n",
    "    ) if items else 0\n",
    "\n",
    "    # Process each item\n",
    "    for item_entry in items:\n",
    "        item = item_entry['item']\n",
    "        quantity = convert_quantity(item_entry['quantity'])\n",
    "        total_price = item['unit_price'] * quantity\n",
    "\n",
    "        # Avoid division by zero if no items are present\n",
    "        percentage_in_invoice = total_price / total_invoice_amount * 100\n",
    "#         print(item['type'])\n",
    "        row = {\n",
    "            'invoice_id': invoice_id,\n",
    "            'created_on': created_on,\n",
    "            'invoiceitem_id': item['id'],\n",
    "            'invoiceitem_name': item['name'],\n",
    "            'type': item['type'],\n",
    "            'unit_price': item['unit_price'],\n",
    "            'total_price': total_price,\n",
    "            'percentage_in_invoice': percentage_in_invoice,\n",
    "            'is_expired': False  # Assuming you have a way to determine this\n",
    "        }\n",
    "\n",
    "        rows.append(row)\n",
    "df = pd.DataFrame(rows)\n",
    "\n",
    "df['created_on'] = pd.to_datetime(df['created_on'], errors='coerce')\n",
    "\n",
    "# Create DataFrame\n",
    "df['type'].replace({0:'Material',1:'Equipment',2:'Service', 3:'Other'}, inplace=True)\n",
    "\n"
   ]
  },
  {
   "cell_type": "code",
   "execution_count": 137,
   "id": "df031c95",
   "metadata": {},
   "outputs": [
    {
     "name": "stdout",
     "output_type": "stream",
     "text": [
      "<class 'pandas.core.frame.DataFrame'>\n",
      "RangeIndex: 492 entries, 0 to 491\n",
      "Data columns (total 9 columns):\n",
      " #   Column                 Non-Null Count  Dtype         \n",
      "---  ------                 --------------  -----         \n",
      " 0   invoice_id             492 non-null    object        \n",
      " 1   created_on             486 non-null    datetime64[ns]\n",
      " 2   invoiceitem_id         492 non-null    int64         \n",
      " 3   invoiceitem_name       492 non-null    object        \n",
      " 4   type                   492 non-null    object        \n",
      " 5   unit_price             492 non-null    int64         \n",
      " 6   total_price            492 non-null    int64         \n",
      " 7   percentage_in_invoice  492 non-null    float64       \n",
      " 8   is_expired             492 non-null    bool          \n",
      "dtypes: bool(1), datetime64[ns](1), float64(1), int64(3), object(3)\n",
      "memory usage: 31.4+ KB\n"
     ]
    }
   ],
   "source": [
    "df.info()"
   ]
  },
  {
   "cell_type": "code",
   "execution_count": null,
   "id": "5c07471a",
   "metadata": {},
   "outputs": [],
   "source": []
  },
  {
   "cell_type": "code",
   "execution_count": null,
   "id": "d361eba5",
   "metadata": {},
   "outputs": [],
   "source": []
  },
  {
   "cell_type": "code",
   "execution_count": null,
   "id": "e6db5642",
   "metadata": {},
   "outputs": [],
   "source": []
  },
  {
   "cell_type": "code",
   "execution_count": null,
   "id": "2518e2f8",
   "metadata": {},
   "outputs": [],
   "source": []
  }
 ],
 "metadata": {
  "kernelspec": {
   "display_name": "Python 3 (ipykernel)",
   "language": "python",
   "name": "python3"
  },
  "language_info": {
   "codemirror_mode": {
    "name": "ipython",
    "version": 3
   },
   "file_extension": ".py",
   "mimetype": "text/x-python",
   "name": "python",
   "nbconvert_exporter": "python",
   "pygments_lexer": "ipython3",
   "version": "3.10.11"
  }
 },
 "nbformat": 4,
 "nbformat_minor": 5
}
